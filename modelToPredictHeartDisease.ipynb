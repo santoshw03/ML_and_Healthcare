{
 "cells": [
  {
   "cell_type": "markdown",
   "id": "9d97be52-a486-49f7-adab-73a174dfb213",
   "metadata": {},
   "source": [
    "# Importing Libraries"
   ]
  },
  {
   "cell_type": "code",
   "execution_count": 1,
   "id": "c64ebd1e-6254-457f-8117-f8eb95cc2b51",
   "metadata": {},
   "outputs": [],
   "source": [
    "# data wrangling & pre-processing\n",
    "import pandas as pd\n",
    "import numpy as np\n",
    "\n",
    "# data visualization\n",
    "import matplotlib.pyplot as plt\n",
    "%matplotlib inline\n",
    "import seaborn as sns\n",
    "\n",
    "#splitting train test data\n",
    "from sklearn.model_selection import train_test_split\n",
    "\n",
    "#model validation\n",
    "from sklearn.metrics import log_loss,roc_auc_score,precision_score,f1_score,recall_score,roc_curve,auc\n",
    "from sklearn.metrics import classification_report, confusion_matrix,accuracy_score,fbeta_score,matthews_corrcoef\n",
    "from sklearn import metrics\n",
    "\n",
    "# cross validation\n",
    "from sklearn.model_selection import StratifiedKFold\n",
    "\n",
    "# machine learning algorithms\n",
    "from sklearn.linear_model import LogisticRegression\n",
    "from sklearn.ensemble import RandomForestClassifier,VotingClassifier,AdaBoostClassifier,GradientBoostingClassifier,RandomForestClassifier,ExtraTreesClassifier\n",
    "from sklearn.neural_network import MLPClassifier\n",
    "from sklearn.tree import DecisionTreeClassifier\n",
    "from sklearn.linear_model import SGDClassifier\n",
    "from sklearn.discriminant_analysis import LinearDiscriminantAnalysis\n",
    "from sklearn.neighbors import KNeighborsClassifier\n",
    "from sklearn.naive_bayes import GaussianNB\n",
    "from sklearn.svm import SVC \n",
    "import xgboost as xgb\n",
    "\n",
    "from scipy import stats"
   ]
  },
  {
   "cell_type": "markdown",
   "id": "d01b9afd-5979-4355-920b-27e57eae3ee7",
   "metadata": {},
   "source": [
    "# Dataset"
   ]
  },
  {
   "cell_type": "code",
   "execution_count": 3,
   "id": "4ebf396e-92e1-4ea9-9d7c-832a208f5344",
   "metadata": {},
   "outputs": [
    {
     "name": "stdout",
     "output_type": "stream",
     "text": [
      "(1190, 12)\n"
     ]
    },
    {
     "data": {
      "text/html": [
       "<div>\n",
       "<style scoped>\n",
       "    .dataframe tbody tr th:only-of-type {\n",
       "        vertical-align: middle;\n",
       "    }\n",
       "\n",
       "    .dataframe tbody tr th {\n",
       "        vertical-align: top;\n",
       "    }\n",
       "\n",
       "    .dataframe thead th {\n",
       "        text-align: right;\n",
       "    }\n",
       "</style>\n",
       "<table border=\"1\" class=\"dataframe\">\n",
       "  <thead>\n",
       "    <tr style=\"text-align: right;\">\n",
       "      <th></th>\n",
       "      <th>age</th>\n",
       "      <th>sex</th>\n",
       "      <th>chest pain type</th>\n",
       "      <th>resting bp s</th>\n",
       "      <th>cholesterol</th>\n",
       "      <th>fasting blood sugar</th>\n",
       "      <th>resting ecg</th>\n",
       "      <th>max heart rate</th>\n",
       "      <th>exercise angina</th>\n",
       "      <th>oldpeak</th>\n",
       "      <th>ST slope</th>\n",
       "      <th>target</th>\n",
       "    </tr>\n",
       "  </thead>\n",
       "  <tbody>\n",
       "    <tr>\n",
       "      <th>299</th>\n",
       "      <td>51</td>\n",
       "      <td>1</td>\n",
       "      <td>4</td>\n",
       "      <td>110</td>\n",
       "      <td>0</td>\n",
       "      <td>1</td>\n",
       "      <td>0</td>\n",
       "      <td>92</td>\n",
       "      <td>0</td>\n",
       "      <td>0.0</td>\n",
       "      <td>2</td>\n",
       "      <td>1</td>\n",
       "    </tr>\n",
       "    <tr>\n",
       "      <th>892</th>\n",
       "      <td>56</td>\n",
       "      <td>1</td>\n",
       "      <td>2</td>\n",
       "      <td>120</td>\n",
       "      <td>236</td>\n",
       "      <td>0</td>\n",
       "      <td>0</td>\n",
       "      <td>178</td>\n",
       "      <td>0</td>\n",
       "      <td>0.8</td>\n",
       "      <td>1</td>\n",
       "      <td>0</td>\n",
       "    </tr>\n",
       "    <tr>\n",
       "      <th>108</th>\n",
       "      <td>50</td>\n",
       "      <td>1</td>\n",
       "      <td>4</td>\n",
       "      <td>140</td>\n",
       "      <td>129</td>\n",
       "      <td>0</td>\n",
       "      <td>0</td>\n",
       "      <td>135</td>\n",
       "      <td>0</td>\n",
       "      <td>0.0</td>\n",
       "      <td>1</td>\n",
       "      <td>0</td>\n",
       "    </tr>\n",
       "    <tr>\n",
       "      <th>543</th>\n",
       "      <td>54</td>\n",
       "      <td>0</td>\n",
       "      <td>4</td>\n",
       "      <td>138</td>\n",
       "      <td>274</td>\n",
       "      <td>0</td>\n",
       "      <td>0</td>\n",
       "      <td>105</td>\n",
       "      <td>1</td>\n",
       "      <td>1.5</td>\n",
       "      <td>2</td>\n",
       "      <td>1</td>\n",
       "    </tr>\n",
       "    <tr>\n",
       "      <th>350</th>\n",
       "      <td>36</td>\n",
       "      <td>1</td>\n",
       "      <td>4</td>\n",
       "      <td>110</td>\n",
       "      <td>0</td>\n",
       "      <td>1</td>\n",
       "      <td>0</td>\n",
       "      <td>125</td>\n",
       "      <td>1</td>\n",
       "      <td>1.0</td>\n",
       "      <td>2</td>\n",
       "      <td>1</td>\n",
       "    </tr>\n",
       "  </tbody>\n",
       "</table>\n",
       "</div>"
      ],
      "text/plain": [
       "     age  sex  chest pain type  resting bp s  cholesterol  \\\n",
       "299   51    1                4           110            0   \n",
       "892   56    1                2           120          236   \n",
       "108   50    1                4           140          129   \n",
       "543   54    0                4           138          274   \n",
       "350   36    1                4           110            0   \n",
       "\n",
       "     fasting blood sugar  resting ecg  max heart rate  exercise angina  \\\n",
       "299                    1            0              92                0   \n",
       "892                    0            0             178                0   \n",
       "108                    0            0             135                0   \n",
       "543                    0            0             105                1   \n",
       "350                    1            0             125                1   \n",
       "\n",
       "     oldpeak  ST slope  target  \n",
       "299      0.0         2       1  \n",
       "892      0.8         1       0  \n",
       "108      0.0         1       0  \n",
       "543      1.5         2       1  \n",
       "350      1.0         2       1  "
      ]
     },
     "execution_count": 3,
     "metadata": {},
     "output_type": "execute_result"
    }
   ],
   "source": [
    "dt = pd.read_csv('heart_statlog_cleveland_hungary_final.csv')\n",
    "print(dt.shape)\n",
    "dt.sample(5)"
   ]
  },
  {
   "cell_type": "markdown",
   "id": "89753720-50c2-4010-9df5-482f7eee5259",
   "metadata": {},
   "source": [
    "# Data Cleaning"
   ]
  },
  {
   "cell_type": "code",
   "execution_count": 4,
   "id": "f2082ccc-55ee-49c7-9b86-78d7196b7499",
   "metadata": {},
   "outputs": [],
   "source": [
    "# renaming features to proper name\n",
    "dt.columns = ['age', 'sex', 'chest_pain_type', 'resting_blood_pressure', 'cholesterol', 'fasting_blood_sugar', \n",
    "               'rest_ecg', 'max_heart_rate_achieved','exercise_induced_angina', 'st_depression', \n",
    "               'st_slope','target']"
   ]
  },
  {
   "cell_type": "code",
   "execution_count": 5,
   "id": "928b22b9-3d7b-4842-9a08-f5ee394e19ae",
   "metadata": {},
   "outputs": [
    {
     "name": "stderr",
     "output_type": "stream",
     "text": [
      "C:\\Users\\santo\\AppData\\Local\\Temp\\ipykernel_7384\\388031784.py:2: FutureWarning: ChainedAssignmentError: behaviour will change in pandas 3.0!\n",
      "You are setting values through chained assignment. Currently this works in certain cases, but when using Copy-on-Write (which will become the default behaviour in pandas 3.0) this will never work to update the original DataFrame or Series, because the intermediate object on which we are setting values will behave as a copy.\n",
      "A typical example is when you are setting values in a column of a DataFrame, like:\n",
      "\n",
      "df[\"col\"][row_indexer] = value\n",
      "\n",
      "Use `df.loc[row_indexer, \"col\"] = values` instead, to perform the assignment in a single step and ensure this keeps updating the original `df`.\n",
      "\n",
      "See the caveats in the documentation: https://pandas.pydata.org/pandas-docs/stable/user_guide/indexing.html#returning-a-view-versus-a-copy\n",
      "\n",
      "  dt['chest_pain_type'][dt['chest_pain_type'] == 1] = 'typical angina'\n",
      "C:\\Users\\santo\\AppData\\Local\\Temp\\ipykernel_7384\\388031784.py:2: SettingWithCopyWarning: \n",
      "A value is trying to be set on a copy of a slice from a DataFrame\n",
      "\n",
      "See the caveats in the documentation: https://pandas.pydata.org/pandas-docs/stable/user_guide/indexing.html#returning-a-view-versus-a-copy\n",
      "  dt['chest_pain_type'][dt['chest_pain_type'] == 1] = 'typical angina'\n",
      "C:\\Users\\santo\\AppData\\Local\\Temp\\ipykernel_7384\\388031784.py:2: FutureWarning: Setting an item of incompatible dtype is deprecated and will raise an error in a future version of pandas. Value 'typical angina' has dtype incompatible with int64, please explicitly cast to a compatible dtype first.\n",
      "  dt['chest_pain_type'][dt['chest_pain_type'] == 1] = 'typical angina'\n",
      "C:\\Users\\santo\\AppData\\Local\\Temp\\ipykernel_7384\\388031784.py:7: FutureWarning: ChainedAssignmentError: behaviour will change in pandas 3.0!\n",
      "You are setting values through chained assignment. Currently this works in certain cases, but when using Copy-on-Write (which will become the default behaviour in pandas 3.0) this will never work to update the original DataFrame or Series, because the intermediate object on which we are setting values will behave as a copy.\n",
      "A typical example is when you are setting values in a column of a DataFrame, like:\n",
      "\n",
      "df[\"col\"][row_indexer] = value\n",
      "\n",
      "Use `df.loc[row_indexer, \"col\"] = values` instead, to perform the assignment in a single step and ensure this keeps updating the original `df`.\n",
      "\n",
      "See the caveats in the documentation: https://pandas.pydata.org/pandas-docs/stable/user_guide/indexing.html#returning-a-view-versus-a-copy\n",
      "\n",
      "  dt['rest_ecg'][dt['rest_ecg'] == 0] = 'normal'\n",
      "C:\\Users\\santo\\AppData\\Local\\Temp\\ipykernel_7384\\388031784.py:7: SettingWithCopyWarning: \n",
      "A value is trying to be set on a copy of a slice from a DataFrame\n",
      "\n",
      "See the caveats in the documentation: https://pandas.pydata.org/pandas-docs/stable/user_guide/indexing.html#returning-a-view-versus-a-copy\n",
      "  dt['rest_ecg'][dt['rest_ecg'] == 0] = 'normal'\n",
      "C:\\Users\\santo\\AppData\\Local\\Temp\\ipykernel_7384\\388031784.py:7: FutureWarning: Setting an item of incompatible dtype is deprecated and will raise an error in a future version of pandas. Value 'normal' has dtype incompatible with int64, please explicitly cast to a compatible dtype first.\n",
      "  dt['rest_ecg'][dt['rest_ecg'] == 0] = 'normal'\n",
      "C:\\Users\\santo\\AppData\\Local\\Temp\\ipykernel_7384\\388031784.py:11: FutureWarning: ChainedAssignmentError: behaviour will change in pandas 3.0!\n",
      "You are setting values through chained assignment. Currently this works in certain cases, but when using Copy-on-Write (which will become the default behaviour in pandas 3.0) this will never work to update the original DataFrame or Series, because the intermediate object on which we are setting values will behave as a copy.\n",
      "A typical example is when you are setting values in a column of a DataFrame, like:\n",
      "\n",
      "df[\"col\"][row_indexer] = value\n",
      "\n",
      "Use `df.loc[row_indexer, \"col\"] = values` instead, to perform the assignment in a single step and ensure this keeps updating the original `df`.\n",
      "\n",
      "See the caveats in the documentation: https://pandas.pydata.org/pandas-docs/stable/user_guide/indexing.html#returning-a-view-versus-a-copy\n",
      "\n",
      "  dt['st_slope'][dt['st_slope'] == 1] = 'upsloping'\n",
      "C:\\Users\\santo\\AppData\\Local\\Temp\\ipykernel_7384\\388031784.py:11: SettingWithCopyWarning: \n",
      "A value is trying to be set on a copy of a slice from a DataFrame\n",
      "\n",
      "See the caveats in the documentation: https://pandas.pydata.org/pandas-docs/stable/user_guide/indexing.html#returning-a-view-versus-a-copy\n",
      "  dt['st_slope'][dt['st_slope'] == 1] = 'upsloping'\n",
      "C:\\Users\\santo\\AppData\\Local\\Temp\\ipykernel_7384\\388031784.py:11: FutureWarning: Setting an item of incompatible dtype is deprecated and will raise an error in a future version of pandas. Value 'upsloping' has dtype incompatible with int64, please explicitly cast to a compatible dtype first.\n",
      "  dt['st_slope'][dt['st_slope'] == 1] = 'upsloping'\n"
     ]
    }
   ],
   "source": [
    "# converting features to categorical features \n",
    "dt['chest_pain_type'][dt['chest_pain_type'] == 1] = 'typical angina'\n",
    "dt['chest_pain_type'][dt['chest_pain_type'] == 2] = 'atypical angina'\n",
    "dt['chest_pain_type'][dt['chest_pain_type'] == 3] = 'non-anginal pain'\n",
    "dt['chest_pain_type'][dt['chest_pain_type'] == 4] = 'asymptomatic'\n",
    "\n",
    "dt['rest_ecg'][dt['rest_ecg'] == 0] = 'normal'\n",
    "dt['rest_ecg'][dt['rest_ecg'] == 1] = 'ST-T wave abnormality'\n",
    "dt['rest_ecg'][dt['rest_ecg'] == 2] = 'left ventricular hypertrophy'\n",
    "\n",
    "dt['st_slope'][dt['st_slope'] == 1] = 'upsloping'\n",
    "dt['st_slope'][dt['st_slope'] == 2] = 'flat'\n",
    "dt['st_slope'][dt['st_slope'] == 3] = 'downsloping'\n",
    "\n",
    "dt[\"sex\"] = dt.sex.apply(lambda  x:'male' if x==1 else 'female')"
   ]
  },
  {
   "cell_type": "markdown",
   "id": "c55e7bee-8ae0-4a1e-a366-00dab677fe89",
   "metadata": {},
   "source": [
    "# Distribution of categorical variables"
   ]
  },
  {
   "cell_type": "code",
   "execution_count": 7,
   "id": "c47e18a1-d5b0-4966-af7a-ddd105b0d463",
   "metadata": {},
   "outputs": [
    {
     "data": {
      "text/plain": [
       "chest_pain_type\n",
       "asymptomatic        625\n",
       "non-anginal pain    283\n",
       "atypical angina     216\n",
       "typical angina       66\n",
       "Name: count, dtype: int64"
      ]
     },
     "execution_count": 7,
     "metadata": {},
     "output_type": "execute_result"
    }
   ],
   "source": [
    "dt['chest_pain_type'].value_counts()"
   ]
  },
  {
   "cell_type": "code",
   "execution_count": 8,
   "id": "fc633de5-f5cc-42d4-99ee-9cbde908b644",
   "metadata": {},
   "outputs": [
    {
     "data": {
      "text/plain": [
       "rest_ecg\n",
       "normal                          684\n",
       "left ventricular hypertrophy    325\n",
       "ST-T wave abnormality           181\n",
       "Name: count, dtype: int64"
      ]
     },
     "execution_count": 8,
     "metadata": {},
     "output_type": "execute_result"
    }
   ],
   "source": [
    "dt['rest_ecg'].value_counts()"
   ]
  },
  {
   "cell_type": "code",
   "execution_count": 9,
   "id": "45ee1070-90d6-4be0-ae63-5e2ec5e982db",
   "metadata": {},
   "outputs": [
    {
     "data": {
      "text/plain": [
       "st_slope\n",
       "flat           582\n",
       "upsloping      526\n",
       "downsloping     81\n",
       "0                1\n",
       "Name: count, dtype: int64"
      ]
     },
     "execution_count": 9,
     "metadata": {},
     "output_type": "execute_result"
    }
   ],
   "source": [
    "dt['st_slope'].value_counts()"
   ]
  },
  {
   "cell_type": "code",
   "execution_count": 10,
   "id": "035ffe23-1485-4d55-b8b4-81d565767065",
   "metadata": {},
   "outputs": [],
   "source": [
    "#dropping row with st_slope =0\n",
    "dt.drop(dt[dt.st_slope ==0].index, inplace=True)"
   ]
  },
  {
   "cell_type": "code",
   "execution_count": 14,
   "id": "ed3626b5-3262-4af6-8121-b3d9d8211e76",
   "metadata": {},
   "outputs": [
    {
     "data": {
      "text/plain": [
       "age                        0\n",
       "sex                        0\n",
       "chest_pain_type            0\n",
       "resting_blood_pressure     0\n",
       "cholesterol                0\n",
       "fasting_blood_sugar        0\n",
       "rest_ecg                   0\n",
       "max_heart_rate_achieved    0\n",
       "exercise_induced_angina    0\n",
       "st_depression              0\n",
       "st_slope                   0\n",
       "target                     0\n",
       "dtype: int64"
      ]
     },
     "execution_count": 14,
     "metadata": {},
     "output_type": "execute_result"
    }
   ],
   "source": [
    "## Checking missing entries in the dataset columnwise\n",
    "dt.isna().sum()"
   ]
  },
  {
   "cell_type": "markdown",
   "id": "271ff316-fb52-49a3-81a2-89d29b33d426",
   "metadata": {},
   "source": [
    "# Exploratory Data Analysis (EDA)"
   ]
  },
  {
   "cell_type": "code",
   "execution_count": 15,
   "id": "42b868e1-728b-4741-a33c-8a49ac903ca4",
   "metadata": {},
   "outputs": [
    {
     "data": {
      "text/html": [
       "<div>\n",
       "<style scoped>\n",
       "    .dataframe tbody tr th:only-of-type {\n",
       "        vertical-align: middle;\n",
       "    }\n",
       "\n",
       "    .dataframe tbody tr th {\n",
       "        vertical-align: top;\n",
       "    }\n",
       "\n",
       "    .dataframe thead th {\n",
       "        text-align: right;\n",
       "    }\n",
       "</style>\n",
       "<table border=\"1\" class=\"dataframe\">\n",
       "  <thead>\n",
       "    <tr style=\"text-align: right;\">\n",
       "      <th></th>\n",
       "      <th>age</th>\n",
       "      <th>resting_blood_pressure</th>\n",
       "      <th>cholesterol</th>\n",
       "      <th>fasting_blood_sugar</th>\n",
       "      <th>max_heart_rate_achieved</th>\n",
       "      <th>exercise_induced_angina</th>\n",
       "      <th>st_depression</th>\n",
       "      <th>target</th>\n",
       "    </tr>\n",
       "  </thead>\n",
       "  <tbody>\n",
       "    <tr>\n",
       "      <th>count</th>\n",
       "      <td>1189.000000</td>\n",
       "      <td>1189.000000</td>\n",
       "      <td>1189.000000</td>\n",
       "      <td>1189.000000</td>\n",
       "      <td>1189.000000</td>\n",
       "      <td>1189.000000</td>\n",
       "      <td>1189.000000</td>\n",
       "      <td>1189.000000</td>\n",
       "    </tr>\n",
       "    <tr>\n",
       "      <th>mean</th>\n",
       "      <td>53.708158</td>\n",
       "      <td>132.138772</td>\n",
       "      <td>210.376787</td>\n",
       "      <td>0.212784</td>\n",
       "      <td>139.739277</td>\n",
       "      <td>0.387721</td>\n",
       "      <td>0.923549</td>\n",
       "      <td>0.528175</td>\n",
       "    </tr>\n",
       "    <tr>\n",
       "      <th>std</th>\n",
       "      <td>9.352961</td>\n",
       "      <td>18.369251</td>\n",
       "      <td>101.462185</td>\n",
       "      <td>0.409448</td>\n",
       "      <td>25.527386</td>\n",
       "      <td>0.487435</td>\n",
       "      <td>1.086464</td>\n",
       "      <td>0.499416</td>\n",
       "    </tr>\n",
       "    <tr>\n",
       "      <th>min</th>\n",
       "      <td>28.000000</td>\n",
       "      <td>0.000000</td>\n",
       "      <td>0.000000</td>\n",
       "      <td>0.000000</td>\n",
       "      <td>60.000000</td>\n",
       "      <td>0.000000</td>\n",
       "      <td>-2.600000</td>\n",
       "      <td>0.000000</td>\n",
       "    </tr>\n",
       "    <tr>\n",
       "      <th>25%</th>\n",
       "      <td>47.000000</td>\n",
       "      <td>120.000000</td>\n",
       "      <td>188.000000</td>\n",
       "      <td>0.000000</td>\n",
       "      <td>121.000000</td>\n",
       "      <td>0.000000</td>\n",
       "      <td>0.000000</td>\n",
       "      <td>0.000000</td>\n",
       "    </tr>\n",
       "    <tr>\n",
       "      <th>50%</th>\n",
       "      <td>54.000000</td>\n",
       "      <td>130.000000</td>\n",
       "      <td>229.000000</td>\n",
       "      <td>0.000000</td>\n",
       "      <td>141.000000</td>\n",
       "      <td>0.000000</td>\n",
       "      <td>0.600000</td>\n",
       "      <td>1.000000</td>\n",
       "    </tr>\n",
       "    <tr>\n",
       "      <th>75%</th>\n",
       "      <td>60.000000</td>\n",
       "      <td>140.000000</td>\n",
       "      <td>270.000000</td>\n",
       "      <td>0.000000</td>\n",
       "      <td>160.000000</td>\n",
       "      <td>1.000000</td>\n",
       "      <td>1.600000</td>\n",
       "      <td>1.000000</td>\n",
       "    </tr>\n",
       "    <tr>\n",
       "      <th>max</th>\n",
       "      <td>77.000000</td>\n",
       "      <td>200.000000</td>\n",
       "      <td>603.000000</td>\n",
       "      <td>1.000000</td>\n",
       "      <td>202.000000</td>\n",
       "      <td>1.000000</td>\n",
       "      <td>6.200000</td>\n",
       "      <td>1.000000</td>\n",
       "    </tr>\n",
       "  </tbody>\n",
       "</table>\n",
       "</div>"
      ],
      "text/plain": [
       "               age  resting_blood_pressure  cholesterol  fasting_blood_sugar  \\\n",
       "count  1189.000000             1189.000000  1189.000000          1189.000000   \n",
       "mean     53.708158              132.138772   210.376787             0.212784   \n",
       "std       9.352961               18.369251   101.462185             0.409448   \n",
       "min      28.000000                0.000000     0.000000             0.000000   \n",
       "25%      47.000000              120.000000   188.000000             0.000000   \n",
       "50%      54.000000              130.000000   229.000000             0.000000   \n",
       "75%      60.000000              140.000000   270.000000             0.000000   \n",
       "max      77.000000              200.000000   603.000000             1.000000   \n",
       "\n",
       "       max_heart_rate_achieved  exercise_induced_angina  st_depression  \\\n",
       "count              1189.000000              1189.000000    1189.000000   \n",
       "mean                139.739277                 0.387721       0.923549   \n",
       "std                  25.527386                 0.487435       1.086464   \n",
       "min                  60.000000                 0.000000      -2.600000   \n",
       "25%                 121.000000                 0.000000       0.000000   \n",
       "50%                 141.000000                 0.000000       0.600000   \n",
       "75%                 160.000000                 1.000000       1.600000   \n",
       "max                 202.000000                 1.000000       6.200000   \n",
       "\n",
       "            target  \n",
       "count  1189.000000  \n",
       "mean      0.528175  \n",
       "std       0.499416  \n",
       "min       0.000000  \n",
       "25%       0.000000  \n",
       "50%       1.000000  \n",
       "75%       1.000000  \n",
       "max       1.000000  "
      ]
     },
     "execution_count": 15,
     "metadata": {},
     "output_type": "execute_result"
    }
   ],
   "source": [
    "# summary statistics of numerical columns\n",
    "dt.describe(include =[np.number])"
   ]
  },
  {
   "cell_type": "code",
   "execution_count": 17,
   "id": "0b59bcf2-cbaf-4850-a24e-b93b269ea4fd",
   "metadata": {},
   "outputs": [
    {
     "data": {
      "text/html": [
       "<div>\n",
       "<style scoped>\n",
       "    .dataframe tbody tr th:only-of-type {\n",
       "        vertical-align: middle;\n",
       "    }\n",
       "\n",
       "    .dataframe tbody tr th {\n",
       "        vertical-align: top;\n",
       "    }\n",
       "\n",
       "    .dataframe thead th {\n",
       "        text-align: right;\n",
       "    }\n",
       "</style>\n",
       "<table border=\"1\" class=\"dataframe\">\n",
       "  <thead>\n",
       "    <tr style=\"text-align: right;\">\n",
       "      <th></th>\n",
       "      <th>sex</th>\n",
       "      <th>chest_pain_type</th>\n",
       "      <th>rest_ecg</th>\n",
       "      <th>st_slope</th>\n",
       "    </tr>\n",
       "  </thead>\n",
       "  <tbody>\n",
       "    <tr>\n",
       "      <th>count</th>\n",
       "      <td>1189</td>\n",
       "      <td>1189</td>\n",
       "      <td>1189</td>\n",
       "      <td>1189</td>\n",
       "    </tr>\n",
       "    <tr>\n",
       "      <th>unique</th>\n",
       "      <td>2</td>\n",
       "      <td>4</td>\n",
       "      <td>3</td>\n",
       "      <td>3</td>\n",
       "    </tr>\n",
       "    <tr>\n",
       "      <th>top</th>\n",
       "      <td>male</td>\n",
       "      <td>asymptomatic</td>\n",
       "      <td>normal</td>\n",
       "      <td>flat</td>\n",
       "    </tr>\n",
       "    <tr>\n",
       "      <th>freq</th>\n",
       "      <td>908</td>\n",
       "      <td>625</td>\n",
       "      <td>683</td>\n",
       "      <td>582</td>\n",
       "    </tr>\n",
       "  </tbody>\n",
       "</table>\n",
       "</div>"
      ],
      "text/plain": [
       "         sex chest_pain_type rest_ecg st_slope\n",
       "count   1189            1189     1189     1189\n",
       "unique     2               4        3        3\n",
       "top     male    asymptomatic   normal     flat\n",
       "freq     908             625      683      582"
      ]
     },
     "execution_count": 17,
     "metadata": {},
     "output_type": "execute_result"
    }
   ],
   "source": [
    "# summary statistics of categorical columns\n",
    "dt.describe(include =[object])"
   ]
  },
  {
   "cell_type": "code",
   "execution_count": 18,
   "id": "54aff4c1-b0f9-4296-bb59-a0e1cfff40b0",
   "metadata": {},
   "outputs": [],
   "source": [
    "#visualization"
   ]
  },
  {
   "cell_type": "markdown",
   "id": "002b2823-0179-4dae-9358-75283243407c",
   "metadata": {},
   "source": [
    "# Distribution of target variable"
   ]
  },
  {
   "cell_type": "code",
   "execution_count": 19,
   "id": "31ab48cd-16a5-49a4-9d8c-c33d7ad28e36",
   "metadata": {},
   "outputs": [
    {
     "data": {
      "image/png": "[encoded data removed]",
      "text/plain": [
       "<Figure size 1400x600 with 2 Axes>"
      ]
     },
     "metadata": {},
     "output_type": "display_data"
    }
   ],
   "source": [
    "# Plotting attrition of employees\n",
    "fig, (ax1, ax2) = plt.subplots(nrows=1, ncols=2, sharey=False, figsize=(14,6))\n",
    "\n",
    "ax1 = dt['target'].value_counts().plot.pie( x=\"Heart disease\" ,y ='no.of patients', \n",
    "                   autopct = \"%1.0f%%\",labels=[\"Heart Disease\",\"Normal\"], startangle = 60,ax=ax1);\n",
    "ax1.set(title = 'Percentage of Heart disease patients in Dataset')\n",
    "\n",
    "ax2 = dt[\"target\"].value_counts().plot(kind=\"barh\" ,ax =ax2)\n",
    "for i,j in enumerate(dt[\"target\"].value_counts().values):\n",
    "    ax2.text(.5,i,j,fontsize=12)\n",
    "ax2.set(title = 'No. of Heart disease patients in Dataset')\n",
    "plt.show()"
   ]
  },
  {
   "cell_type": "code",
   "execution_count": null,
   "id": "b8cbb276-05e6-4cbf-865d-e63d1f5cae3b",
   "metadata": {},
   "outputs": [],
   "source": []
  }
 ],
 "metadata": {
  "kernelspec": {
   "display_name": "Python 3 (ipykernel)",
   "language": "python",
   "name": "python3"
  },
  "language_info": {
   "codemirror_mode": {
    "name": "ipython",
    "version": 3
   },
   "file_extension": ".py",
   "mimetype": "text/x-python",
   "name": "python",
   "nbconvert_exporter": "python",
   "pygments_lexer": "ipython3",
   "version": "3.12.4"
  }
 },
 "nbformat": 4,
 "nbformat_minor": 5
}
